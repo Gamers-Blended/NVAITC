{
 "cells": [
  {
   "cell_type": "markdown",
   "metadata": {
    "id": "yb98V4yA0m5N"
   },
   "source": [
    "Reference: <br>\n",
    "https://github.com/rapidsai/cuml/blob/branch-0.17/notebooks/arima_demo.ipynb"
   ]
  },
  {
   "cell_type": "markdown",
   "metadata": {
    "id": "Dlsyk9m9NN2K"
   },
   "source": [
    "# ARIMA\n",
    "An AutoRegressive Integrated Moving Average model is used in time series analysis to understand the data or forecast future points.\n",
    "\n",
    "This implementation can fit a model to each time series in a batch and perform in-sample predictions and out-of-sample forecasts. It is designed to give the best performance when working on a large batch of time series.\n",
    "\n",
    "Useful links:\n",
    "- [cuDF documentation](https://docs.rapids.ai/api/cudf/stable)\n",
    "- [cuML's ARIMA API docs](https://docs.rapids.ai/api/cuml/stable/api.html#arima)\n",
    "- [Introduction to ARIMA](https://otexts.com/fpp2/arima.html)\n",
    "\n",
    "## Imports"
   ]
  },
  {
   "cell_type": "code",
   "execution_count": 1,
   "metadata": {
    "id": "aWLG0GTUf9pH"
   },
   "outputs": [],
   "source": [
    "import cudf\n",
    "from cuml.tsa.arima import ARIMA\n",
    "\n",
    "import numpy as np\n",
    "import pandas as pd\n",
    "\n",
    "import matplotlib.pyplot as plt"
   ]
  },
  {
   "cell_type": "markdown",
   "metadata": {
    "id": "rs_J5n4k5Xop"
   },
   "source": [
    "# Loading Util\n",
    "The data is stored in CSV format:\n",
    "\n",
    "- data series stored in columns\n",
    "- first column contains date of data points\n",
    "- first row contains name of each variable\n",
    "Population estimate dataset:"
   ]
  },
  {
   "cell_type": "code",
   "execution_count": 2,
   "metadata": {
    "id": "Z_J88lgcsVza"
   },
   "outputs": [],
   "source": [
    "url = 'https://raw.githubusercontent.com/rapidsai/cuml/branch-0.17/notebooks/data/time_series/population_estimate.csv'\n",
    "\n",
    "pdf = pd.read_csv(url)\n",
    "max_batch = 4\n",
    "\n",
    "df = cudf.from_pandas(pdf[pdf.columns[1:max_batch+1]].astype(np.float64))"
   ]
  },
  {
   "cell_type": "code",
   "execution_count": 3,
   "metadata": {
    "colab": {
     "base_uri": "https://localhost:8080/",
     "height": 419
    },
    "executionInfo": {
     "elapsed": 302,
     "status": "ok",
     "timestamp": 1626709933805,
     "user": {
      "displayName": "A B",
      "photoUrl": "",
      "userId": "01224062562146721531"
     },
     "user_tz": -480
    },
    "id": "fZuU110ItoPq",
    "outputId": "705e179e-d2e8-4e4c-9f52-f36e91c56ad7"
   },
   "outputs": [
    {
     "data": {
      "text/html": [
       "<div>\n",
       "<style scoped>\n",
       "    .dataframe tbody tr th:only-of-type {\n",
       "        vertical-align: middle;\n",
       "    }\n",
       "\n",
       "    .dataframe tbody tr th {\n",
       "        vertical-align: top;\n",
       "    }\n",
       "\n",
       "    .dataframe thead th {\n",
       "        text-align: right;\n",
       "    }\n",
       "</style>\n",
       "<table border=\"1\" class=\"dataframe\">\n",
       "  <thead>\n",
       "    <tr style=\"text-align: right;\">\n",
       "      <th></th>\n",
       "      <th>Male</th>\n",
       "      <th>Female</th>\n",
       "    </tr>\n",
       "  </thead>\n",
       "  <tbody>\n",
       "    <tr>\n",
       "      <th>0</th>\n",
       "      <td>238.1</td>\n",
       "      <td>183.2</td>\n",
       "    </tr>\n",
       "    <tr>\n",
       "      <th>1</th>\n",
       "      <td>250.4</td>\n",
       "      <td>194.2</td>\n",
       "    </tr>\n",
       "    <tr>\n",
       "      <th>2</th>\n",
       "      <td>252.5</td>\n",
       "      <td>201.6</td>\n",
       "    </tr>\n",
       "    <tr>\n",
       "      <th>3</th>\n",
       "      <td>264.6</td>\n",
       "      <td>211.5</td>\n",
       "    </tr>\n",
       "    <tr>\n",
       "      <th>4</th>\n",
       "      <td>281.8</td>\n",
       "      <td>225.5</td>\n",
       "    </tr>\n",
       "    <tr>\n",
       "      <th>...</th>\n",
       "      <td>...</td>\n",
       "      <td>...</td>\n",
       "    </tr>\n",
       "    <tr>\n",
       "      <th>132</th>\n",
       "      <td>2083.4</td>\n",
       "      <td>2169.2</td>\n",
       "    </tr>\n",
       "    <tr>\n",
       "      <th>133</th>\n",
       "      <td>2104.1</td>\n",
       "      <td>2187.4</td>\n",
       "    </tr>\n",
       "    <tr>\n",
       "      <th>134</th>\n",
       "      <td>2134.0</td>\n",
       "      <td>2213.2</td>\n",
       "    </tr>\n",
       "    <tr>\n",
       "      <th>135</th>\n",
       "      <td>2158.2</td>\n",
       "      <td>2234.9</td>\n",
       "    </tr>\n",
       "    <tr>\n",
       "      <th>136</th>\n",
       "      <td>2174.3</td>\n",
       "      <td>2248.4</td>\n",
       "    </tr>\n",
       "  </tbody>\n",
       "</table>\n",
       "<p>137 rows × 2 columns</p>\n",
       "</div>"
      ],
      "text/plain": [
       "       Male  Female\n",
       "0     238.1   183.2\n",
       "1     250.4   194.2\n",
       "2     252.5   201.6\n",
       "3     264.6   211.5\n",
       "4     281.8   225.5\n",
       "..      ...     ...\n",
       "132  2083.4  2169.2\n",
       "133  2104.1  2187.4\n",
       "134  2134.0  2213.2\n",
       "135  2158.2  2234.9\n",
       "136  2174.3  2248.4\n",
       "\n",
       "[137 rows x 2 columns]"
      ]
     },
     "execution_count": 3,
     "metadata": {},
     "output_type": "execute_result"
    }
   ],
   "source": [
    "df"
   ]
  },
  {
   "cell_type": "markdown",
   "metadata": {
    "id": "Q7YdQ9R7l5n1"
   },
   "source": [
    "# Visualization Util\n",
    "Define a helper function that displays the data, and optionally a prediction starting from a given index.\n",
    "\n",
    "Each time series is plot separately for better readability."
   ]
  },
  {
   "cell_type": "code",
   "execution_count": 4,
   "metadata": {
    "id": "fDzonQMONwbo"
   },
   "outputs": [],
   "source": [
    "def visualize(y, pred=None, pred_start=None, lower=None, upper=None):\n",
    "    # (rows, columns)\n",
    "    n_obs, batch_size = y.shape\n",
    "    col = [\"#1f77b4\", \"#ff7f0e\"]\n",
    "\n",
    "    # Create the subplots\n",
    "    c = min(batch_size, 2) # ncols\n",
    "    r = (batch_size + c - 1) // c # nrows\n",
    "\n",
    "    # No squeezing\n",
    "    # Returned Axes object is a 2D array containing Axes instances, even if it ends up being 1x1\n",
    "    fig, ax = plt.subplots(r, c, squeeze=False)\n",
    "    # Flattens ax from the Axes group of n*m to the 1*nm Axes group\n",
    "    ax = ax.flatten()\n",
    "    \n",
    "    # Range for the prediction\n",
    "    if pred is not None:\n",
    "        pred_start = pred_start or n_obs\n",
    "        pred_end = pred_start + pred.shape[0]\n",
    "    \n",
    "    # Plot the data\n",
    "    for i in range(batch_size):\n",
    "        title = y.columns[i]\n",
    "        ax[i].plot(np.r_[:n_obs], y[title].to_array(), color=col[0])\n",
    "\n",
    "        if pred is not None:\n",
    "            ax[i].plot(np.r_[pred_start:pred_end],\n",
    "                       pred[pred.columns[i]].to_array(),\n",
    "                       linestyle=\"--\", color=col[1])\n",
    "            \n",
    "        # Prediction intervals\n",
    "        if lower is not None and upper is not None:\n",
    "            ax[i].fill_between(np.r_[pred_start:pred_end],\n",
    "                               lower[lower.columns[i]].to_array(),\n",
    "                               upper[upper.columns[i]].to_array(),\n",
    "                               alpha=0.2, color=col[1])\n",
    "        \n",
    "        ax[i].title.set_text(title)\n",
    "    \n",
    "    for i in range(batch_size, r*c):\n",
    "        fig.delaxes(ax[i])\n",
    "    \n",
    "    fig.tight_layout()\n",
    "    plt.show()"
   ]
  },
  {
   "cell_type": "markdown",
   "metadata": {
    "id": "Nooh4CGfs5jd"
   },
   "source": [
    "# Non-seasonal ARIMA Models\n",
    "Basic `ARIMA(p,d,q)` model is made of 3 components:\n",
    "- **Integrated** (I): series is differenced d times until it is stationary\n",
    "- **AutoRegressive** (AR): variable is regressed on its p past values\n",
    "- **Moving Average** (MA): variable is regressed on q past error terms\n",
    "\n",
    "The model can also incorporate an optional constant term (called intercept).\n",
    "\n",
    "## A Simple MA(2) Example\n",
    "Start with a simple Moving Average model.\n",
    "<br>\n",
    "Load and visualize the migrations in Auckland by age dataset:"
   ]
  },
  {
   "cell_type": "code",
   "execution_count": 5,
   "metadata": {
    "colab": {
     "base_uri": "https://localhost:8080/",
     "height": 297
    },
    "executionInfo": {
     "elapsed": 1135,
     "status": "ok",
     "timestamp": 1626709962664,
     "user": {
      "displayName": "A B",
      "photoUrl": "",
      "userId": "01224062562146721531"
     },
     "user_tz": -480
    },
    "id": "QaBBhCmOmjyt",
    "outputId": "a7fb576b-fbf7-4a05-a31a-691c1b834464"
   },
   "outputs": [
    {
     "data": {
      "image/png": "[encoded data removed]",
      "text/plain": [
       "<Figure size 432x288 with 4 Axes>"
      ]
     },
     "metadata": {
      "needs_background": "light"
     },
     "output_type": "display_data"
    }
   ],
   "source": [
    "import pandas as pd\n",
    "url = 'https://raw.githubusercontent.com/rapidsai/cuml/branch-0.17/notebooks/data/time_series/net_migrations_auckland_by_age.csv'\n",
    "\n",
    "pdf = pd.read_csv(url)\n",
    "max_batch = 4\n",
    "\n",
    "df_mig = cudf.from_pandas(pdf[pdf.columns[1:max_batch+1]].astype(np.float64))\n",
    "\n",
    "# df_mig = load_dataset(\"net_migrations_auckland_by_age\", 4)\n",
    "visualize(df_mig)"
   ]
  },
  {
   "cell_type": "markdown",
   "metadata": {
    "id": "F6uy8K6CvzRE"
   },
   "source": [
    "Fit model with q=2 and with an intercept.\n",
    "\n",
    "ARIMA class accepts cuDF dataframes or array-like types as input (host or device), e.g numpy arrays.\n",
    "\n",
    "We already have a dataframe so pass it to the ARIMA constructor with the model parameters:"
   ]
  },
  {
   "cell_type": "code",
   "execution_count": 6,
   "metadata": {
    "colab": {
     "base_uri": "https://localhost:8080/"
    },
    "executionInfo": {
     "elapsed": 3026,
     "status": "ok",
     "timestamp": 1626709981897,
     "user": {
      "displayName": "A B",
      "photoUrl": "",
      "userId": "01224062562146721531"
     },
     "user_tz": -480
    },
    "id": "2nZIiey4DfCO",
    "outputId": "63f38df6-f00e-49cd-87d3-5fc9c85cf104"
   },
   "outputs": [
    {
     "name": "stderr",
     "output_type": "stream",
     "text": [
      "/tmp/ipykernel_61/1254525407.py:1: FutureWarning: Pass order=(0, 0, 2) as keyword args. From version 21.06, passing these as positional arguments will result in an error\n",
      "  model_mig = ARIMA(df_mig, (0,0,2), fit_intercept=True)\n"
     ]
    },
    {
     "data": {
      "text/plain": [
       "ARIMA()"
      ]
     },
     "execution_count": 6,
     "metadata": {},
     "output_type": "execute_result"
    }
   ],
   "source": [
    "model_mig = ARIMA(df_mig, (0,0,2), fit_intercept=True)\n",
    "model_mig.fit()"
   ]
  },
  {
   "cell_type": "markdown",
   "metadata": {
    "id": "1fvLmbODwctU"
   },
   "source": [
    "Forecast and visualize the results:"
   ]
  },
  {
   "cell_type": "code",
   "execution_count": 7,
   "metadata": {
    "colab": {
     "base_uri": "https://localhost:8080/",
     "height": 297
    },
    "executionInfo": {
     "elapsed": 1090,
     "status": "ok",
     "timestamp": 1626709984977,
     "user": {
      "displayName": "A B",
      "photoUrl": "",
      "userId": "01224062562146721531"
     },
     "user_tz": -480
    },
    "id": "_cEzul0_n90F",
    "outputId": "52c8c407-eb5c-48d9-ea24-e006e4ae8e7c"
   },
   "outputs": [
    {
     "data": {
      "image/png": "[encoded data removed]",
      "text/plain": [
       "<Figure size 432x288 with 4 Axes>"
      ]
     },
     "metadata": {
      "needs_background": "light"
     },
     "output_type": "display_data"
    }
   ],
   "source": [
    "fc_mig = model_mig.forecast(10)\n",
    "\n",
    "visualize(df_mig, fc_mig)"
   ]
  },
  {
   "cell_type": "markdown",
   "metadata": {
    "id": "k0HS5Zx5wiUU"
   },
   "source": [
    "If want to get the parameters that were fitted to the model, use `get_fit_params()` or the corresponding properties.\n",
    "\n",
    "The parameters are organized in 2D arrays: one row represents one parameter and the columns are different batch members."
   ]
  },
  {
   "cell_type": "code",
   "execution_count": 8,
   "metadata": {
    "colab": {
     "base_uri": "https://localhost:8080/"
    },
    "executionInfo": {
     "elapsed": 339,
     "status": "ok",
     "timestamp": 1626710040675,
     "user": {
      "displayName": "A B",
      "photoUrl": "",
      "userId": "01224062562146721531"
     },
     "user_tz": -480
    },
    "id": "QURvB-emoALK",
    "outputId": "4e589618-42e7-4caa-b9b7-8200f2acb49f"
   },
   "outputs": [
    {
     "name": "stdout",
     "output_type": "stream",
     "text": [
      "          0         1         2         3\n",
      "0  1.310067  1.106709  1.179773  1.248473\n",
      "1  0.901780  0.739681  0.683323  0.761904\n",
      "-------\n",
      "          0         1         2         3\n",
      "0  1.310067  1.106709  1.179773  1.248473\n",
      "1  0.901780  0.739681  0.683323  0.761904\n"
     ]
    }
   ],
   "source": [
    "print(model_mig.get_fit_params()[\"ma\"])\n",
    "print('-------')\n",
    "print(model_mig.ma_)"
   ]
  },
  {
   "cell_type": "markdown",
   "metadata": {
    "id": "d9lYAdNbx7g0"
   },
   "source": [
    "It is also possible to get a compact numpy array containing all the parameters with `pack()`, or similarly to load the parameters into a model with `unpack()`:"
   ]
  },
  {
   "cell_type": "code",
   "execution_count": 9,
   "metadata": {
    "colab": {
     "base_uri": "https://localhost:8080/"
    },
    "executionInfo": {
     "elapsed": 291,
     "status": "ok",
     "timestamp": 1626710002453,
     "user": {
      "displayName": "A B",
      "photoUrl": "",
      "userId": "01224062562146721531"
     },
     "user_tz": -480
    },
    "id": "UOoXvBaaa05s",
    "outputId": "73a05f13-0e61-4c3a-e05d-f3dc9627ff32"
   },
   "outputs": [
    {
     "name": "stdout",
     "output_type": "stream",
     "text": [
      "[5.11634979e+02 1.31006698e+00 9.01780426e-01 3.71857387e+04\n",
      " 5.69576984e+02 1.10670853e+00 7.39681317e-01 4.10079158e+04\n",
      " 1.01431929e+03 1.17977299e+00 6.83323198e-01 1.24248421e+05\n",
      " 7.95116363e+02 1.24847255e+00 7.61904330e-01 1.21165443e+05]\n"
     ]
    }
   ],
   "source": [
    "print(model_mig.pack())"
   ]
  },
  {
   "cell_type": "markdown",
   "metadata": {
    "id": "ofQXRsCjyPx0"
   },
   "source": [
    "We can also get the log-likelihood of the parameters w.r.t to the series, and evaluate various information criteria:"
   ]
  },
  {
   "cell_type": "code",
   "execution_count": 10,
   "metadata": {
    "colab": {
     "base_uri": "https://localhost:8080/"
    },
    "executionInfo": {
     "elapsed": 290,
     "status": "ok",
     "timestamp": 1626710048504,
     "user": {
      "displayName": "A B",
      "photoUrl": "",
      "userId": "01224062562146721531"
     },
     "user_tz": -480
    },
    "id": "0dDAEhImoChe",
    "outputId": "2aa19183-d1bc-4c27-9578-3b2a8e9d13d8"
   },
   "outputs": [
    {
     "name": "stdout",
     "output_type": "stream",
     "text": [
      "log-likelihood:\n",
      " [-133.82681719 -133.64679737 -142.79391832 -146.82119293]\n",
      "\n",
      "Akaike Information Criterion (AIC):\n",
      " 0    275.653634\n",
      "1    275.293595\n",
      "2    293.587837\n",
      "3    301.642386\n",
      "dtype: float64\n",
      "\n",
      "Corrected Akaike Information Criterion (AICc):\n",
      " 0    278.320301\n",
      "1    277.960261\n",
      "2    296.254503\n",
      "3    304.309053\n",
      "dtype: float64\n",
      "\n",
      "Bayesian Information Criterion (BIC):\n",
      " 0    279.636563\n",
      "1    279.276524\n",
      "2    297.570766\n",
      "3    305.625315\n",
      "dtype: float64\n"
     ]
    }
   ],
   "source": [
    "print(\"log-likelihood:\\n\", model_mig.llf)\n",
    "print(\"\\nAkaike Information Criterion (AIC):\\n\", model_mig.aic)\n",
    "print(\"\\nCorrected Akaike Information Criterion (AICc):\\n\", model_mig.aicc)\n",
    "print(\"\\nBayesian Information Criterion (BIC):\\n\", model_mig.bic)"
   ]
  },
  {
   "cell_type": "markdown",
   "metadata": {
    "id": "V7AF7-0MzbHj"
   },
   "source": [
    "## An ARIMA(1,2,1) Example\n",
    "Load population estimate dataset.\n",
    "\n",
    "For this dataset, a first difference is not enough to make the data stationary because of the quadratic trend, so let d=2.\n",
    "\n",
    "Forecast and predict in-sample:"
   ]
  },
  {
   "cell_type": "code",
   "execution_count": 11,
   "metadata": {
    "colab": {
     "base_uri": "https://localhost:8080/",
     "height": 331
    },
    "executionInfo": {
     "elapsed": 1054,
     "status": "ok",
     "timestamp": 1626710059025,
     "user": {
      "displayName": "A B",
      "photoUrl": "",
      "userId": "01224062562146721531"
     },
     "user_tz": -480
    },
    "id": "cImVm4IZMLcx",
    "outputId": "55fe81dd-1c1a-4f2a-ab7f-8e50dfdf4297"
   },
   "outputs": [
    {
     "name": "stderr",
     "output_type": "stream",
     "text": [
      "/tmp/ipykernel_61/2459810068.py:12: FutureWarning: Pass order=(1, 2, 1) as keyword args. From version 21.06, passing these as positional arguments will result in an error\n",
      "  model_pop = ARIMA(df_pop, (1,2,1), fit_intercept=True)\n"
     ]
    },
    {
     "data": {
      "image/png": "[encoded data removed]",
      "text/plain": [
       "<Figure size 432x288 with 2 Axes>"
      ]
     },
     "metadata": {
      "needs_background": "light"
     },
     "output_type": "display_data"
    }
   ],
   "source": [
    "# df_pop = load_dataset(\"population_estimate\")\n",
    "\n",
    "url = 'https://raw.githubusercontent.com/rapidsai/cuml/branch-0.17/notebooks/data/time_series/population_estimate.csv'\n",
    "\n",
    "df_pop = pd.read_csv(url)\n",
    "max_batch = 4\n",
    "\n",
    "df_pop = cudf.from_pandas(df_pop[df_pop.columns[1:max_batch+1]].astype(np.float64))\n",
    "\n",
    "\n",
    "# Fit an ARIMA(1,2,1) model\n",
    "model_pop = ARIMA(df_pop, (1,2,1), fit_intercept=True)\n",
    "model_pop.fit()\n",
    "\n",
    "# Predict in-sample and forecast out-of-sample\n",
    "pred_pop = model_pop.predict(80, 160)\n",
    "visualize(df_pop, pred_pop, 80)"
   ]
  },
  {
   "cell_type": "markdown",
   "metadata": {
    "id": "hR1nCF7_0Rze"
   },
   "source": [
    "### Confidence intervals\n",
    "To get confidence intervals when forecasting, specify the confidence level (here 95%):"
   ]
  },
  {
   "cell_type": "code",
   "execution_count": 12,
   "metadata": {
    "colab": {
     "base_uri": "https://localhost:8080/",
     "height": 297
    },
    "executionInfo": {
     "elapsed": 883,
     "status": "ok",
     "timestamp": 1626710066318,
     "user": {
      "displayName": "A B",
      "photoUrl": "",
      "userId": "01224062562146721531"
     },
     "user_tz": -480
    },
    "id": "w-AU_OBVoEJe",
    "outputId": "eded3777-7d59-44f7-c107-53b537134046"
   },
   "outputs": [
    {
     "data": {
      "image/png": "[encoded data removed]",
      "text/plain": [
       "<Figure size 432x288 with 2 Axes>"
      ]
     },
     "metadata": {
      "needs_background": "light"
     },
     "output_type": "display_data"
    }
   ],
   "source": [
    "fc_pop, lower_pop, upper_pop = model_pop.forecast(23, level=0.95)\n",
    "visualize(df_pop, fc_pop, lower=lower_pop, upper=upper_pop)"
   ]
  },
  {
   "cell_type": "markdown",
   "metadata": {
    "id": "aDD32VAg0fvM"
   },
   "source": [
    "# Seasonal ARIMA models\n",
    "[Seasonal ARIMA models](https://otexts.com/fpp2/seasonal-arima.html) are expressed in the form `ARIMA(p,d,q)(P,D,Q)`s and have additional seasonal components that we denote SAR and SMA.\n",
    "\n",
    "We can also choose to apply a first or second seasonal difference, or combine a non-seasonal and a seasonal difference (note: `p+P` <= 2 is required).\n",
    "\n",
    "- P: Seasonal autoregressive order.\n",
    "- D: Seasonal difference order.\n",
    "- Q: Seasonal moving average order.\n",
    "- m: The number of time steps for a single seasonal period.\n",
    "\n",
    "The m parameter influences the P, D, and Q parameters. For example, an m of 12 for monthly data suggests a yearly seasonal cycle.\n",
    "\n",
    "## An ARIMA(1,1,1)(1,1,1)12 Example\n",
    "Load guest nights by region dataset.\n",
    "\n",
    "This dataset shows a strong seasonal component with a period of 12 (annual cycle, monthly data), and also a non-seasonal trend.\n",
    "\n",
    "A good choice is to go with `d=1`, `D=1` and `s=12`.\n",
    "\n",
    "Create model with seasonal parameters, and forecast:"
   ]
  },
  {
   "cell_type": "code",
   "execution_count": 13,
   "metadata": {
    "colab": {
     "base_uri": "https://localhost:8080/"
    },
    "executionInfo": {
     "elapsed": 17407,
     "status": "ok",
     "timestamp": 1626710094776,
     "user": {
      "displayName": "A B",
      "photoUrl": "",
      "userId": "01224062562146721531"
     },
     "user_tz": -480
    },
    "id": "HGCGyN57T8eo",
    "outputId": "52044bb5-3167-4221-a79f-e210b3b90238"
   },
   "outputs": [
    {
     "name": "stderr",
     "output_type": "stream",
     "text": [
      "/tmp/ipykernel_61/3607946255.py:11: FutureWarning: Pass order=(1, 1, 1), seasonal_order=(1, 1, 1, 12) as keyword args. From version 21.06, passing these as positional arguments will result in an error\n",
      "  model_guests = ARIMA(df_guests, (1,1,1), (1,1,1,12), fit_intercept=False)\n"
     ]
    },
    {
     "data": {
      "text/plain": [
       "ARIMA()"
      ]
     },
     "execution_count": 13,
     "metadata": {},
     "output_type": "execute_result"
    }
   ],
   "source": [
    "# df_guests = load_dataset(\"guest_nights_by_region\", 4)\n",
    "\n",
    "url = 'https://raw.githubusercontent.com/rapidsai/cuml/branch-0.17/notebooks/data/time_series/guest_nights_by_region.csv'\n",
    "\n",
    "df_guests = pd.read_csv(url)\n",
    "max_batch = 4\n",
    "\n",
    "df_guests = cudf.from_pandas(df_guests[df_guests.columns[1:max_batch+1]].astype(np.float64))\n",
    "\n",
    "# Create and fit an ARIMA(1,1,1)(1,1,1)12 model:\n",
    "model_guests = ARIMA(df_guests, (1,1,1), (1,1,1,12), fit_intercept=False)\n",
    "model_guests.fit()"
   ]
  },
  {
   "cell_type": "code",
   "execution_count": 14,
   "metadata": {
    "colab": {
     "base_uri": "https://localhost:8080/",
     "height": 297
    },
    "executionInfo": {
     "elapsed": 1078,
     "status": "ok",
     "timestamp": 1626710102015,
     "user": {
      "displayName": "A B",
      "photoUrl": "",
      "userId": "01224062562146721531"
     },
     "user_tz": -480
    },
    "id": "WjAtqSnLoFtv",
    "outputId": "20ed789d-516f-4c39-e6b1-53f681080359"
   },
   "outputs": [
    {
     "data": {
      "image/png": "[encoded data removed]",
      "text/plain": [
       "<Figure size 432x288 with 4 Axes>"
      ]
     },
     "metadata": {
      "needs_background": "light"
     },
     "output_type": "display_data"
    }
   ],
   "source": [
    "# Forecast\n",
    "fc_guests = model_guests.forecast(40)\n",
    "\n",
    "# Visualize after the time step 200\n",
    "visualize(df_guests[200:], fc_guests)"
   ]
  },
  {
   "cell_type": "code",
   "execution_count": null,
   "metadata": {},
   "outputs": [],
   "source": []
  }
 ],
 "metadata": {
  "colab": {
   "collapsed_sections": [],
   "machine_shape": "hm",
   "name": "RAPIDS - ARIMA.ipynb",
   "provenance": [
    {
     "file_id": "1mZBA5UNvxusdV1rhZumCyemXcyPOvvce",
     "timestamp": 1625213841098
    }
   ]
  },
  "kernelspec": {
   "display_name": "Python 3 (ipykernel)",
   "language": "python",
   "name": "python3"
  },
  "language_info": {
   "codemirror_mode": {
    "name": "ipython",
    "version": 3
   },
   "file_extension": ".py",
   "mimetype": "text/x-python",
   "name": "python",
   "nbconvert_exporter": "python",
   "pygments_lexer": "ipython3",
   "version": "3.8.12"
  }
 },
 "nbformat": 4,
 "nbformat_minor": 1
}
