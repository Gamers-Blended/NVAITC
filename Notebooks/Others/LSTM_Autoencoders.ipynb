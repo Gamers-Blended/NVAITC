{
 "cells": [
  {
   "cell_type": "markdown",
   "id": "a84aba1d",
   "metadata": {},
   "source": [
    "# Reference\n",
    "https://machinelearningmastery.com/lstm-autoencoders/\n",
    "\n",
    "# Reconstruction LSTM Autoencoder\n",
    "\n",
    "The simplest LSTM autoencoder is one that learns to reconstruct each input sequence. <br>\n",
    "9 time-steps and 1 feature:"
   ]
  },
  {
   "cell_type": "code",
   "execution_count": 1,
   "id": "984f2149",
   "metadata": {},
   "outputs": [],
   "source": [
    "# lstm autoencoder recreate sequence\n",
    "from numpy import array\n",
    "from keras.models import Sequential\n",
    "from keras.layers import LSTM\n",
    "from keras.layers import Dense\n",
    "from keras.layers import RepeatVector\n",
    "from keras.layers import TimeDistributed\n",
    "from keras.utils import plot_model\n",
    "\n",
    "from keras.models import Model\n",
    "from keras.layers import Input"
   ]
  },
  {
   "cell_type": "markdown",
   "id": "bd5fb380",
   "metadata": {},
   "source": [
    "Define sequence and reshape into preferred shape of \\[samples, timesteps, features\\]:"
   ]
  },
  {
   "cell_type": "code",
   "execution_count": 2,
   "id": "88e89436",
   "metadata": {},
   "outputs": [],
   "source": [
    "# define input sequence\n",
    "sequence = array([0.1, 0.2, 0.3, 0.4, 0.5, 0.6, 0.7, 0.8, 0.9])\n",
    "\n",
    "# reshape input into [samples, timesteps, features]\n",
    "n_in = len(sequence)\n",
    "sequence = sequence.reshape((1, n_in, 1))"
   ]
  },
  {
   "cell_type": "markdown",
   "id": "ac35e288",
   "metadata": {},
   "source": [
    "Define encoder-decoder LSTM architecture that expects input sequences with 9 time steps and 1 feature and outputs a sequence with 9 time steps and 1 feature."
   ]
  },
  {
   "cell_type": "code",
   "execution_count": 3,
   "id": "57d3726d",
   "metadata": {},
   "outputs": [],
   "source": [
    "# define model\n",
    "model = Sequential()\n",
    "model.add(LSTM(100, activation='relu', input_shape=(n_in,1)))\n",
    "model.add(RepeatVector(n_in))\n",
    "model.add(LSTM(100, activation='relu', return_sequences=True))\n",
    "model.add(TimeDistributed(Dense(1)))\n",
    "model.compile(optimizer='adam', loss='mse')"
   ]
  },
  {
   "cell_type": "code",
   "execution_count": 4,
   "id": "e7cff529",
   "metadata": {},
   "outputs": [
    {
     "data": {
      "text/plain": [
       "<keras.callbacks.History at 0x29f576db0d0>"
      ]
     },
     "execution_count": 4,
     "metadata": {},
     "output_type": "execute_result"
    }
   ],
   "source": [
    "# fit model\n",
    "model.fit(sequence, sequence, epochs=300, verbose=0)"
   ]
  },
  {
   "cell_type": "code",
   "execution_count": 5,
   "id": "7f0fde46",
   "metadata": {},
   "outputs": [
    {
     "name": "stdout",
     "output_type": "stream",
     "text": [
      "You must install pydot (`pip install pydot`) and install graphviz (see instructions at https://graphviz.gitlab.io/download/) for plot_model/model_to_dot to work.\n"
     ]
    }
   ],
   "source": [
    "plot_model(model, show_shapes=True, to_file='reconstruct_lstm_autoencoder.png')"
   ]
  },
  {
   "cell_type": "code",
   "execution_count": 6,
   "id": "9dcdb443",
   "metadata": {},
   "outputs": [
    {
     "name": "stdout",
     "output_type": "stream",
     "text": [
      "[0.10802374 0.20397452 0.30119506 0.39925027 0.49797487 0.59741884\n",
      " 0.697809   0.7995227  0.9030742 ]\n"
     ]
    }
   ],
   "source": [
    "# demonstrate recreation\n",
    "yhat = model.predict(sequence, verbose=0)\n",
    "print(yhat[0,:,0])"
   ]
  },
  {
   "attachments": {
    "LSTM-Autoencoder-For-Sequence-Reconstruction.png": {
     "image/png": "[encoded data removed]"
    }
   },
   "cell_type": "markdown",
   "id": "4d05f1f9",
   "metadata": {},
   "source": [
    "![LSTM-Autoencoder-For-Sequence-Reconstruction.png](attachment:LSTM-Autoencoder-For-Sequence-Reconstruction.png)"
   ]
  },
  {
   "cell_type": "markdown",
   "id": "bec70653",
   "metadata": {},
   "source": [
    "# Prediction LSTM Autoencoder\n",
    "Modify reconstruction LSTM Autoencoder to instead predict the next step in the sequence.\n",
    "\n",
    "Expect the output to be the sequence: <br>\n",
    "`[0.2, 0.3, 0.4, 0.5, 0.6, 0.7, 0.8, 0.9]`\n",
    "\n",
    "Model will expect each input sequence to have 9 time steps and the output sequence to have 8 time steps."
   ]
  },
  {
   "cell_type": "code",
   "execution_count": 7,
   "id": "d2d5a512",
   "metadata": {},
   "outputs": [],
   "source": [
    "# define input sequence\n",
    "seq_in = array([0.1, 0.2, 0.3, 0.4, 0.5, 0.6, 0.7, 0.8, 0.9])\n",
    "\n",
    "# reshape input into [samples, timesteps, features]\n",
    "n_in = len(seq_in)\n",
    "seq_in = seq_in.reshape((1, n_in, 1))\n",
    "\n",
    "# prepare output sequence\n",
    "seq_out = seq_in[:, 1:, :] # 2nd element of seq_in onwards (after reshape)\n",
    "n_out = n_in - 1"
   ]
  },
  {
   "cell_type": "code",
   "execution_count": 8,
   "id": "324a198b",
   "metadata": {},
   "outputs": [
    {
     "name": "stdout",
     "output_type": "stream",
     "text": [
      "You must install pydot (`pip install pydot`) and install graphviz (see instructions at https://graphviz.gitlab.io/download/) for plot_model/model_to_dot to work.\n"
     ]
    }
   ],
   "source": [
    "# define model\n",
    "model = Sequential()\n",
    "model.add(LSTM(100, activation='relu', input_shape=(n_in,1)))\n",
    "model.add(RepeatVector(n_out))\n",
    "model.add(LSTM(100, activation='relu', return_sequences=True))\n",
    "model.add(TimeDistributed(Dense(1)))\n",
    "model.compile(optimizer='adam', loss='mse')\n",
    "\n",
    "plot_model(model, show_shapes=True, to_file='predict_lstm_autoencoder.png')"
   ]
  },
  {
   "cell_type": "code",
   "execution_count": 9,
   "id": "85eeacd1",
   "metadata": {},
   "outputs": [
    {
     "name": "stdout",
     "output_type": "stream",
     "text": [
      "[0.16935384 0.29280564 0.40446398 0.50837654 0.6078973  0.7044157\n",
      " 0.79912853 0.89311934]\n"
     ]
    }
   ],
   "source": [
    "# fit model\n",
    "model.fit(seq_in, seq_out, epochs=300, verbose=0)\n",
    "\n",
    "# demonstrate prediction\n",
    "yhat = model.predict(seq_in, verbose=0)\n",
    "print(yhat[0,:,0])"
   ]
  },
  {
   "attachments": {
    "LSTM-Autoencoder-For-Sequence-Prediction.png": {
     "image/png": "[encoded data removed]"
    }
   },
   "cell_type": "markdown",
   "id": "6e501c84",
   "metadata": {},
   "source": [
    "![LSTM-Autoencoder-For-Sequence-Prediction.png](attachment:LSTM-Autoencoder-For-Sequence-Prediction.png)"
   ]
  },
  {
   "cell_type": "markdown",
   "id": "39d234da",
   "metadata": {},
   "source": [
    "# Composite LSTM Autoencoder\n",
    "Create a composite LSTM Autoencoder that has a single encoder and 2 decoders, one for reconstruction and one for prediction.\n",
    "\n",
    "Define encoder:"
   ]
  },
  {
   "cell_type": "code",
   "execution_count": 10,
   "id": "b176868e",
   "metadata": {},
   "outputs": [],
   "source": [
    "# define encoder\n",
    "visible = Input(shape=(n_in,1))\n",
    "encoder = LSTM(100, activation='relu')(visible)"
   ]
  },
  {
   "cell_type": "markdown",
   "id": "41943b04",
   "metadata": {},
   "source": [
    "First decoder that is used for reconstruction:"
   ]
  },
  {
   "cell_type": "code",
   "execution_count": 11,
   "id": "8bf93224",
   "metadata": {},
   "outputs": [],
   "source": [
    "# define reconstruct decoder\n",
    "decoder1 = RepeatVector(n_in)(encoder)\n",
    "decoder1 = LSTM(100, activation='relu', return_sequences=True)(decoder1)\n",
    "decoder1 = TimeDistributed(Dense(1))(decoder1)"
   ]
  },
  {
   "cell_type": "markdown",
   "id": "373dc657",
   "metadata": {},
   "source": [
    "Second decoder that is used for prediction:"
   ]
  },
  {
   "cell_type": "code",
   "execution_count": 12,
   "id": "9c545849",
   "metadata": {},
   "outputs": [],
   "source": [
    "# define predict decoder\n",
    "decoder2 = RepeatVector(n_out)(encoder)\n",
    "decoder2 = LSTM(100, activation='relu', return_sequences=True)(decoder2)\n",
    "decoder2 = TimeDistributed(Dense(1))(decoder2)"
   ]
  },
  {
   "cell_type": "code",
   "execution_count": 13,
   "id": "64ab1ebf",
   "metadata": {},
   "outputs": [],
   "source": [
    "# tie it together\n",
    "model = Model(inputs=visible, outputs=[decoder1, decoder2])"
   ]
  },
  {
   "cell_type": "code",
   "execution_count": 14,
   "id": "4789fa84",
   "metadata": {},
   "outputs": [
    {
     "name": "stdout",
     "output_type": "stream",
     "text": [
      "You must install pydot (`pip install pydot`) and install graphviz (see instructions at https://graphviz.gitlab.io/download/) for plot_model/model_to_dot to work.\n"
     ]
    }
   ],
   "source": [
    "model.compile(optimizer='adam', loss='mse')\n",
    "plot_model(model, show_shapes=True, to_file='composite_lstm_autoencoder.png')"
   ]
  },
  {
   "cell_type": "code",
   "execution_count": 15,
   "id": "d0c20255",
   "metadata": {},
   "outputs": [
    {
     "data": {
      "text/plain": [
       "<keras.callbacks.History at 0x29f5f5c48b0>"
      ]
     },
     "execution_count": 15,
     "metadata": {},
     "output_type": "execute_result"
    }
   ],
   "source": [
    "# fit model\n",
    "model.fit(seq_in, [seq_in,seq_out], epochs=300, verbose=0)"
   ]
  },
  {
   "cell_type": "code",
   "execution_count": 16,
   "id": "e59bc5b2",
   "metadata": {},
   "outputs": [
    {
     "name": "stdout",
     "output_type": "stream",
     "text": [
      "[array([[[0.10854567],\n",
      "        [0.20597583],\n",
      "        [0.302922  ],\n",
      "        [0.39983043],\n",
      "        [0.49722263],\n",
      "        [0.5957045 ],\n",
      "        [0.6959674 ],\n",
      "        [0.7987982 ],\n",
      "        [0.9050984 ]]], dtype=float32), array([[[0.1658297 ],\n",
      "        [0.28886917],\n",
      "        [0.40262735],\n",
      "        [0.5093534 ],\n",
      "        [0.610473  ],\n",
      "        [0.70704925],\n",
      "        [0.8000012 ],\n",
      "        [0.89013433]]], dtype=float32)]\n"
     ]
    }
   ],
   "source": [
    "# demonstrate prediction\n",
    "yhat = model.predict(seq_in, verbose=0)\n",
    "print(yhat)"
   ]
  },
  {
   "attachments": {
    "Composite-LSTM-Autoencoder-For-Sequence-Reconstruction-and-Prediction.webp": {
     "image/webp": "[encoded data removed]"
    }
   },
   "cell_type": "markdown",
   "id": "164fefaf",
   "metadata": {},
   "source": [
    "![Composite-LSTM-Autoencoder-For-Sequence-Reconstruction-and-Prediction.webp](attachment:Composite-LSTM-Autoencoder-For-Sequence-Reconstruction-and-Prediction.webp)"
   ]
  },
  {
   "cell_type": "markdown",
   "id": "dc0fa0e8",
   "metadata": {},
   "source": [
    "# Keep Standalone LSTM Encoder\n",
    "Once autoencoder has been fit, the decoder can be removed and the encoder can be kept as a standalone model.\n",
    "\n",
    "The encoder can be used to transform input sequences to a fixed length encoded vector.\n",
    "\n",
    "Create a new model that has the same inputs as original model, and outputs directly from the end of encoder model, before the `RepeatVector` layer."
   ]
  },
  {
   "cell_type": "code",
   "execution_count": 17,
   "id": "a499f900",
   "metadata": {},
   "outputs": [
    {
     "data": {
      "text/plain": [
       "<keras.callbacks.History at 0x29f58cdea90>"
      ]
     },
     "execution_count": 17,
     "metadata": {},
     "output_type": "execute_result"
    }
   ],
   "source": [
    "# define model\n",
    "model = Sequential()\n",
    "model.add(LSTM(100, activation='relu', input_shape=(n_in,1)))\n",
    "model.add(RepeatVector(n_in))\n",
    "model.add(LSTM(100, activation='relu', return_sequences=True))\n",
    "model.add(TimeDistributed(Dense(1)))\n",
    "model.compile(optimizer='adam', loss='mse')\n",
    "\n",
    "# fit model\n",
    "model.fit(sequence, sequence, epochs=300, verbose=0)"
   ]
  },
  {
   "cell_type": "code",
   "execution_count": 18,
   "id": "b6693e3f",
   "metadata": {},
   "outputs": [
    {
     "name": "stdout",
     "output_type": "stream",
     "text": [
      "You must install pydot (`pip install pydot`) and install graphviz (see instructions at https://graphviz.gitlab.io/download/) for plot_model/model_to_dot to work.\n"
     ]
    }
   ],
   "source": [
    "# connect the encoder LSTM as the output layer\n",
    "model = Model(inputs=model.inputs, outputs=model.layers[0].output)\n",
    "plot_model(model, show_shapes=True, to_file='lstm_encoder.png')"
   ]
  },
  {
   "cell_type": "markdown",
   "id": "331646ac",
   "metadata": {},
   "source": [
    "Predict the sequence and get back the 100 element output of the encoder."
   ]
  },
  {
   "cell_type": "code",
   "execution_count": 19,
   "id": "c09d4f59",
   "metadata": {},
   "outputs": [
    {
     "name": "stdout",
     "output_type": "stream",
     "text": [
      "1/1 [==============================] - 0s 226ms/step\n",
      "(1, 100)\n",
      "[[0.04588479 0.03573649 0.         0.04737705 0.         0.\n",
      "  0.08150392 0.         0.         0.00568952 0.01565594 0.\n",
      "  0.02592465 0.0408755  0.         0.09614272 0.1290739  0.\n",
      "  0.         0.         0.07475773 0.         0.         0.09499974\n",
      "  0.         0.         0.0580228  0.09357021 0.09709301 0.09615061\n",
      "  0.03903631 0.00410925 0.         0.08957739 0.         0.\n",
      "  0.12137134 0.0378059  0.         0.         0.         0.05503175\n",
      "  0.08687729 0.02462975 0.07152317 0.08842088 0.         0.\n",
      "  0.03739825 0.         0.06797485 0.04894598 0.04917474 0.\n",
      "  0.02574052 0.         0.         0.         0.         0.\n",
      "  0.03728311 0.02250903 0.         0.         0.         0.10753236\n",
      "  0.         0.07324821 0.0389988  0.         0.         0.\n",
      "  0.02753257 0.02540717 0.         0.06955361 0.         0.00883427\n",
      "  0.07005215 0.         0.         0.         0.04168067 0.\n",
      "  0.02950752 0.00276996 0.05426683 0.01511476 0.         0.\n",
      "  0.         0.         0.07085624 0.         0.         0.\n",
      "  0.14049053 0.         0.06563118 0.03407612]]\n"
     ]
    }
   ],
   "source": [
    "# get the feature vector for the input sequence\n",
    "yhat = model.predict(sequence)\n",
    "print(yhat.shape)\n",
    "print(yhat)"
   ]
  },
  {
   "attachments": {
    "Standalone-Encoder-LSTM-Model.png": {
     "image/png": "[encoded data removed]"
    }
   },
   "cell_type": "markdown",
   "id": "da2a1f24",
   "metadata": {},
   "source": [
    "![Standalone-Encoder-LSTM-Model.png](attachment:Standalone-Encoder-LSTM-Model.png)"
   ]
  },
  {
   "cell_type": "code",
   "execution_count": null,
   "id": "0425e688",
   "metadata": {},
   "outputs": [],
   "source": []
  }
 ],
 "metadata": {
  "kernelspec": {
   "display_name": "Python 3 (ipykernel)",
   "language": "python",
   "name": "python3"
  },
  "language_info": {
   "codemirror_mode": {
    "name": "ipython",
    "version": 3
   },
   "file_extension": ".py",
   "mimetype": "text/x-python",
   "name": "python",
   "nbconvert_exporter": "python",
   "pygments_lexer": "ipython3",
   "version": "3.9.7"
  }
 },
 "nbformat": 4,
 "nbformat_minor": 5
}
