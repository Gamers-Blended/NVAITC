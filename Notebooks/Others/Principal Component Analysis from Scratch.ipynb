{
 "cells": [
  {
   "cell_type": "markdown",
   "id": "423a895b",
   "metadata": {},
   "source": [
    "# Reference\n",
    "https://machinelearningmastery.com/calculate-principal-component-analysis-scratch-python/\n",
    "\n",
    "# Manually Calculation"
   ]
  },
  {
   "cell_type": "code",
   "execution_count": 1,
   "id": "c2c19b09",
   "metadata": {},
   "outputs": [],
   "source": [
    "from numpy import array\n",
    "from numpy import mean\n",
    "from numpy import cov\n",
    "from numpy.linalg import eig"
   ]
  },
  {
   "cell_type": "markdown",
   "id": "000e4215",
   "metadata": {},
   "source": [
    "3×2 matrix"
   ]
  },
  {
   "cell_type": "code",
   "execution_count": 2,
   "id": "b1486c4d",
   "metadata": {},
   "outputs": [
    {
     "name": "stdout",
     "output_type": "stream",
     "text": [
      "[[1 2]\n",
      " [3 4]\n",
      " [5 6]]\n"
     ]
    }
   ],
   "source": [
    "# define a matrix\n",
    "A = array([[1, 2], [3, 4], [5, 6]])\n",
    "print(A)"
   ]
  },
  {
   "cell_type": "markdown",
   "id": "b08fd554",
   "metadata": {},
   "source": [
    "Centers data in the matrix"
   ]
  },
  {
   "cell_type": "code",
   "execution_count": 3,
   "id": "2569939c",
   "metadata": {},
   "outputs": [
    {
     "name": "stdout",
     "output_type": "stream",
     "text": [
      "[3. 4.]\n"
     ]
    }
   ],
   "source": [
    "# calculate the mean of each column\n",
    "M = mean(A.T, axis=1)\n",
    "print(M)"
   ]
  },
  {
   "cell_type": "code",
   "execution_count": 4,
   "id": "ee5b39e5",
   "metadata": {},
   "outputs": [
    {
     "name": "stdout",
     "output_type": "stream",
     "text": [
      "[[-2. -2.]\n",
      " [ 0.  0.]\n",
      " [ 2.  2.]]\n"
     ]
    }
   ],
   "source": [
    "# center columns by subtracting column means\n",
    "C = A - M\n",
    "print(C)"
   ]
  },
  {
   "cell_type": "markdown",
   "id": "10e6a8bd",
   "metadata": {},
   "source": [
    "Calculate covariance matrix of centered data\n",
    "\n",
    "Correlation: normalized measure of amount and direction (positive/negative) that 2 columns change together <br>\n",
    "Covariance: generalized and unnormalized version of correlation across multiple columns.\n",
    "\n",
    "A covariance matrix is a calculation of covariance of a given matrix with covariance scores for every column with every other column, including itself."
   ]
  },
  {
   "cell_type": "code",
   "execution_count": 5,
   "id": "2080f6e6",
   "metadata": {},
   "outputs": [
    {
     "name": "stdout",
     "output_type": "stream",
     "text": [
      "[[4. 4.]\n",
      " [4. 4.]]\n"
     ]
    }
   ],
   "source": [
    "# calculate covariance matrix of centered matrix\n",
    "V = cov(C.T)\n",
    "print(V)"
   ]
  },
  {
   "cell_type": "markdown",
   "id": "75068f23",
   "metadata": {},
   "source": [
    "Calculate eigendecomposition of covariance matrix\n",
    "\n",
    "Eigenvectors and eigenvalues are taken as the principal components and singular values are used to project original data.\n",
    "\n",
    "Eigenvectors: directions or components for the reduced subspace <br>\n",
    "Eigenvalues: magnitudes for the directions"
   ]
  },
  {
   "cell_type": "code",
   "execution_count": 6,
   "id": "40e2215b",
   "metadata": {},
   "outputs": [
    {
     "name": "stdout",
     "output_type": "stream",
     "text": [
      "eigenvectors:\n",
      "[[ 0.70710678 -0.70710678]\n",
      " [ 0.70710678  0.70710678]]\n",
      "eigenvalues:\n",
      "[8. 0.]\n"
     ]
    }
   ],
   "source": [
    "# eigendecomposition of covariance matrix\n",
    "values, vectors = eig(V)\n",
    "print(\"eigenvectors:\")\n",
    "print(vectors)\n",
    "print(\"eigenvalues:\")\n",
    "print(values)"
   ]
  },
  {
   "cell_type": "code",
   "execution_count": 7,
   "id": "a9ed6df4",
   "metadata": {},
   "outputs": [
    {
     "name": "stdout",
     "output_type": "stream",
     "text": [
      "[[-2.82842712  0.        ]\n",
      " [ 0.          0.        ]\n",
      " [ 2.82842712  0.        ]]\n"
     ]
    }
   ],
   "source": [
    "# project data\n",
    "P = vectors.T.dot(C.T)\n",
    "print(P.T)"
   ]
  },
  {
   "cell_type": "markdown",
   "id": "bf733b91",
   "metadata": {},
   "source": [
    "The eigenvectors can be sorted by the eigenvalues in descending order to provide a ranking of the components or axes of the new subspace.\n",
    "\n",
    "If all eigenvalues have a similar value, then the existing representation may already be reasonably compressed or dense and that the projection may offer little. <br>\n",
    "If there are eigenvalues close to 0, they represent components that may be discarded. <br>\n",
    "Select k eigenvectors (principal components) that have the k largest eigenvalues.\n",
    "\n",
    "Only the first eigenvector is required. <br>\n",
    "Suggestes that the 3×2 matrix could be projected onto a 3×1 matrix with little loss."
   ]
  },
  {
   "cell_type": "markdown",
   "id": "75b5e9dd",
   "metadata": {},
   "source": [
    "# Reusable\n",
    "Use the `PCA()` class in scikit-learn library.\n",
    "When creating the class, number of components can be specified as a parameter.\n",
    "\n",
    "The class is first fit on a dataset by calling the fit() function\n",
    "Data can be projected into a subspace with the chosen number of dimensions by calling `transform()`.\n",
    "\n",
    "Once fit, eigenvalues and principal components can be accessed on the PCA class via `explained_variance_` and `components_ attributes`."
   ]
  },
  {
   "cell_type": "code",
   "execution_count": 8,
   "id": "5dc7ef39",
   "metadata": {},
   "outputs": [],
   "source": [
    "# Principal Component Analysis\n",
    "from numpy import array\n",
    "from sklearn.decomposition import PCA"
   ]
  },
  {
   "cell_type": "code",
   "execution_count": 9,
   "id": "b88053b1",
   "metadata": {},
   "outputs": [
    {
     "name": "stdout",
     "output_type": "stream",
     "text": [
      "[[1 2]\n",
      " [3 4]\n",
      " [5 6]]\n"
     ]
    }
   ],
   "source": [
    "# define a matrix\n",
    "A = array([[1, 2], [3, 4], [5, 6]])\n",
    "print(A)"
   ]
  },
  {
   "cell_type": "code",
   "execution_count": 10,
   "id": "164b9516",
   "metadata": {},
   "outputs": [],
   "source": [
    "# create the PCA instance\n",
    "pca = PCA(2)"
   ]
  },
  {
   "cell_type": "code",
   "execution_count": 11,
   "id": "8c3f19cc",
   "metadata": {},
   "outputs": [
    {
     "data": {
      "text/plain": [
       "PCA(n_components=2)"
      ]
     },
     "execution_count": 11,
     "metadata": {},
     "output_type": "execute_result"
    }
   ],
   "source": [
    "# fit on data\n",
    "pca.fit(A)"
   ]
  },
  {
   "cell_type": "code",
   "execution_count": 12,
   "id": "de6f73ee",
   "metadata": {},
   "outputs": [
    {
     "name": "stdout",
     "output_type": "stream",
     "text": [
      "[[ 0.70710678  0.70710678]\n",
      " [ 0.70710678 -0.70710678]]\n",
      "[8.00000000e+00 2.25080839e-33]\n"
     ]
    }
   ],
   "source": [
    "# access values and vectors\n",
    "print(pca.components_)\n",
    "print(pca.explained_variance_)"
   ]
  },
  {
   "cell_type": "code",
   "execution_count": 13,
   "id": "618d1968",
   "metadata": {},
   "outputs": [
    {
     "name": "stdout",
     "output_type": "stream",
     "text": [
      "[[-2.82842712e+00  2.22044605e-16]\n",
      " [ 0.00000000e+00  0.00000000e+00]\n",
      " [ 2.82842712e+00 -2.22044605e-16]]\n"
     ]
    }
   ],
   "source": [
    "# transform data\n",
    "B = pca.transform(A)\n",
    "print(B)"
   ]
  },
  {
   "cell_type": "code",
   "execution_count": null,
   "id": "d4ae9a5a",
   "metadata": {},
   "outputs": [],
   "source": []
  }
 ],
 "metadata": {
  "kernelspec": {
   "display_name": "Python 3 (ipykernel)",
   "language": "python",
   "name": "python3"
  },
  "language_info": {
   "codemirror_mode": {
    "name": "ipython",
    "version": 3
   },
   "file_extension": ".py",
   "mimetype": "text/x-python",
   "name": "python",
   "nbconvert_exporter": "python",
   "pygments_lexer": "ipython3",
   "version": "3.9.7"
  }
 },
 "nbformat": 4,
 "nbformat_minor": 5
}
