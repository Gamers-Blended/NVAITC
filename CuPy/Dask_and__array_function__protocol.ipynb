{
 "cells": [
  {
   "cell_type": "markdown",
   "metadata": {},
   "source": [
    "[Reference](https://blog.dask.org/2019/03/18/dask-nep18)\n",
    "\n",
    "The `__array_function__` protocol allows a NumPy function call to dispatch the appropriate NumPy-like library implementation, depending on the array type given as input, thus allowing Dask to remain agnostic of such libraries, internally calling just the NumPy function, which automatically handles dispatching of the appropriate library implementation, for example, CuPy or Sparse."
   ]
  },
  {
   "cell_type": "code",
   "execution_count": 1,
   "metadata": {},
   "outputs": [],
   "source": [
    "import numpy as np\n",
    "import dask.array as da\n",
    "\n",
    "x = np.random.random((5000, 1000))\n",
    "\n",
    "d = da.from_array(x, chunks=(1000, 1000))\n",
    "\n",
    "u, s, v = np.linalg.svd(d)"
   ]
  },
  {
   "cell_type": "markdown",
   "metadata": {},
   "source": [
    "To speedup SVD computation of a Dask array and offload that work to a CUDA-capable GPU, replace the NumPy array `x` by a CuPy array. Use __array_function__ protocol and dispatch the appropriate CuPy linear algebra operations:"
   ]
  },
  {
   "cell_type": "code",
   "execution_count": 2,
   "metadata": {},
   "outputs": [],
   "source": [
    "import numpy as np\n",
    "import cupy\n",
    "import dask.array as da\n",
    "\n",
    "x = cupy.random.random((5000, 1000))\n",
    "\n",
    "d = da.from_array(x, chunks=(1000, 1000))\n",
    "\n",
    "u, s, v = np.linalg.svd(d)"
   ]
  },
  {
   "cell_type": "markdown",
   "metadata": {},
   "source": [
    "Start by creating all the arrays that will be used for computing an SVD later."
   ]
  },
  {
   "cell_type": "code",
   "execution_count": 3,
   "metadata": {},
   "outputs": [],
   "source": [
    "import numpy as np\n",
    "import cupy\n",
    "import dask.array as da\n",
    "\n",
    "x = np.random.random((10000, 1000))\n",
    "y = cupy.array(x)\n",
    "\n",
    "dx = da.from_array(x, chunks=(5000, 1000))\n",
    "dy = da.from_array(y, chunks=(5000, 1000), asarray=False)"
   ]
  },
  {
   "cell_type": "markdown",
   "metadata": {},
   "source": [
    "4 arrays:\n",
    "- `x`: NumPy array in main memory\n",
    "- `y`: CuPy array in GPU memory\n",
    "- `dx`: NumPy array wrapped in Dask array\n",
    "- `dy`: Copy of CuPy array wrapped in Dask array; wrapping a CuPy array in a Dask array as a view (`asarray=True`) not supported yet\n",
    "\n",
    "# Compute SVD on a NumPy array\n",
    "Compute SVD of `x` using NumPy. Processed on CPU in a single thread:"
   ]
  },
  {
   "cell_type": "code",
   "execution_count": 4,
   "metadata": {},
   "outputs": [
    {
     "name": "stdout",
     "output_type": "stream",
     "text": [
      "Wall time: 38.5 s\n"
     ]
    }
   ],
   "source": [
    "%%time\n",
    "\n",
    "u, s, v = np.linalg.svd(x)"
   ]
  },
  {
   "cell_type": "markdown",
   "metadata": {},
   "source": [
    "# Compute SVD on the NumPy array wrapped in Dask array\n",
    "Before introduction of `__array_function__` protocol:"
   ]
  },
  {
   "cell_type": "code",
   "execution_count": 7,
   "metadata": {},
   "outputs": [],
   "source": [
    "import dask\n",
    "\n",
    "u, s, v = da.linalg.svd(dx)\n",
    "u, s, v = dask.compute(u, s, v)"
   ]
  },
  {
   "cell_type": "markdown",
   "metadata": {},
   "source": [
    "The code above is prohibitive for several projects since one needs to call the proper library dispatcher in addition to passing the correct array. <br>\n",
    "One would need to find all NumPy calls in the code and replace those by the correct library’s function call, depending on the input array type. \n",
    "\n",
    "After `__array_function__`, the same NumPy function can be called using the Dask array `dx` as input:"
   ]
  },
  {
   "cell_type": "code",
   "execution_count": 8,
   "metadata": {},
   "outputs": [
    {
     "name": "stdout",
     "output_type": "stream",
     "text": [
      "Wall time: 4.07 s\n"
     ]
    }
   ],
   "source": [
    "%%time\n",
    "\n",
    "u, s, v = np.linalg.svd(dx)\n",
    "u, s, v = dask.compute(u, s, v)"
   ]
  },
  {
   "cell_type": "markdown",
   "metadata": {},
   "source": [
    "Dask defers computation of results until its consumption. <br>\n",
    "Need to call `dask.compute()` function on result arrays to compute them.\n",
    "\n",
    "Without changing any code besides the wrapping of the NumPy array as a Dask array, a speedup is achieved.\n",
    "\n",
    "# Compute SVD on the CuPy array\n",
    "Call NumPy’s SVD function on CuPy array `y`:"
   ]
  },
  {
   "cell_type": "code",
   "execution_count": 9,
   "metadata": {},
   "outputs": [
    {
     "name": "stdout",
     "output_type": "stream",
     "text": [
      "Wall time: 9.08 s\n"
     ]
    }
   ],
   "source": [
    "%%time\n",
    "\n",
    "u, s, v = np.linalg.svd(y)"
   ]
  },
  {
   "cell_type": "markdown",
   "metadata": {},
   "source": [
    "# Compute SVD on the CuPy array wrapped in Dask array\n",
    "Take advantage of the benefits of **Dask data chunk splitting** and **CuPy GPU implementation** to keep GPU busy as much as possible:"
   ]
  },
  {
   "cell_type": "code",
   "execution_count": 10,
   "metadata": {},
   "outputs": [
    {
     "name": "stdout",
     "output_type": "stream",
     "text": [
      "Wall time: 4.66 s\n"
     ]
    }
   ],
   "source": [
    "%%time\n",
    "\n",
    "u, s, v = np.linalg.svd(dy)\n",
    "u, s, v = dask.compute(u, s, v)"
   ]
  },
  {
   "cell_type": "markdown",
   "metadata": {},
   "source": [
    "Speedup over single-threaded CuPy SVD computing.\n",
    "\n",
    "Speedups can be achieved by dispatching the work on a different array.\n",
    "\n",
    "# Application\n",
    "Before the `__array_function__` protocol, need to rewrite most of the internal implementation for each and every NumPy-like library to be used as backend. <br>\n",
    "Need a specialization of the implementation for Dask, another for CuPy and another for Sparse. <br>\n",
    "With all the functionality that these libraries share through compatible interface, don’t have to change the implementation at all, simply pass a different array type as input.\n",
    "\n",
    "## Example with scikit-learn"
   ]
  },
  {
   "cell_type": "code",
   "execution_count": 11,
   "metadata": {},
   "outputs": [],
   "source": [
    "import numpy as np\n",
    "import matplotlib.pyplot as plt\n",
    "from sklearn.linear_model import LinearRegression\n",
    "\n",
    "N = 1000\n",
    "\n",
    "# x from 0 to N\n",
    "x = N * np.random.random((40000, 1))\n",
    "\n",
    "# y = a*x + b with noise\n",
    "y = 0.5 * x + 1.0 + np.random.normal(size=x.shape)\n",
    "\n",
    "# create a linear regression model\n",
    "est = LinearRegression()"
   ]
  },
  {
   "cell_type": "code",
   "execution_count": 12,
   "metadata": {},
   "outputs": [
    {
     "name": "stdout",
     "output_type": "stream",
     "text": [
      "Wall time: 23 ms\n"
     ]
    },
    {
     "data": {
      "text/plain": [
       "LinearRegression()"
      ]
     },
     "execution_count": 12,
     "metadata": {},
     "output_type": "execute_result"
    }
   ],
   "source": [
    "%%time\n",
    "\n",
    "est.fit(x, y)"
   ]
  },
  {
   "cell_type": "code",
   "execution_count": 13,
   "metadata": {},
   "outputs": [
    {
     "name": "stdout",
     "output_type": "stream",
     "text": [
      "Wall time: 0 ns\n"
     ]
    }
   ],
   "source": [
    "%%time\n",
    "\n",
    "# predict y from the data\n",
    "x_new = np.linspace(0, N, 100)\n",
    "y_new = est.predict(x_new[:, np.newaxis])"
   ]
  },
  {
   "cell_type": "code",
   "execution_count": 14,
   "metadata": {},
   "outputs": [
    {
     "data": {
      "image/png": "[encoded data removed]",
      "text/plain": [
       "<Figure size 288x216 with 1 Axes>"
      ]
     },
     "metadata": {
      "needs_background": "light"
     },
     "output_type": "display_data"
    }
   ],
   "source": [
    "# plot the results\n",
    "plt.figure(figsize=(4, 3))\n",
    "ax = plt.axes()\n",
    "ax.scatter(x, y, linewidth=3)\n",
    "ax.plot(x_new, y_new, color='black')\n",
    "\n",
    "ax.set_facecolor((1.0, 1.0, 0.42))\n",
    "\n",
    "ax.set_xlabel('x')\n",
    "ax.set_ylabel('y')\n",
    "\n",
    "ax.axis('tight')\n",
    "\n",
    "plt.show()"
   ]
  },
  {
   "cell_type": "markdown",
   "metadata": {},
   "source": [
    "## Example with Dask-GLM\n",
    "The only thing to change from the code before is the first block:"
   ]
  },
  {
   "cell_type": "code",
   "execution_count": 15,
   "metadata": {},
   "outputs": [],
   "source": [
    "import numpy as np\n",
    "from dask_glm.estimators import LinearRegression\n",
    "import matplotlib.pyplot as plt\n",
    "\n",
    "N = 1000\n",
    "\n",
    "# x from 0 to N\n",
    "x = N * np.random.random((40000, 1))\n",
    "\n",
    "# y = a*x + b with noise\n",
    "y = 0.5 * x + 1.0 + np.random.normal(size=x.shape)\n",
    "\n",
    "# create a linear regression model\n",
    "est = LinearRegression(solver='lbfgs')"
   ]
  },
  {
   "cell_type": "markdown",
   "metadata": {},
   "source": [
    "The `lbfgs` solver converges reasonably fast."
   ]
  },
  {
   "cell_type": "code",
   "execution_count": 16,
   "metadata": {},
   "outputs": [
    {
     "name": "stdout",
     "output_type": "stream",
     "text": [
      "Wall time: 25.8 ms\n"
     ]
    },
    {
     "name": "stderr",
     "output_type": "stream",
     "text": [
      "C:\\Users\\user\\anaconda3\\lib\\site-packages\\dask\\config.py:567: UserWarning: Configuration key \"fuse_ave_width\" has been deprecated. Please use \"optimization.fuse.ave-width\" instead\n",
      "  warnings.warn(\n"
     ]
    },
    {
     "data": {
      "text/plain": [
       "LinearRegression(solver='lbfgs')"
      ]
     },
     "execution_count": 16,
     "metadata": {},
     "output_type": "execute_result"
    }
   ],
   "source": [
    "%%time\n",
    "\n",
    "est.fit(x, y)"
   ]
  },
  {
   "cell_type": "code",
   "execution_count": 17,
   "metadata": {},
   "outputs": [
    {
     "name": "stdout",
     "output_type": "stream",
     "text": [
      "Wall time: 0 ns\n"
     ]
    }
   ],
   "source": [
    "%%time\n",
    "\n",
    "# predict y from the data\n",
    "x_new = np.linspace(0, N, 100)\n",
    "y_new = est.predict(x_new[:, np.newaxis])"
   ]
  },
  {
   "cell_type": "markdown",
   "metadata": {},
   "source": [
    "scikit-learn outperforms Dask-GLM using both NumPy and CuPy arrays. <br>\n",
    "Some likely possibilities:\n",
    "- scikit-learn may be using solvers that converge faster\n",
    "- Dask-GLM is entirely built on top of Dask, while scikit-learn may be heavily optimized internally\n",
    "- Too many synchronization steps and data transfer could occur for small datasets with CuPy"
   ]
  },
  {
   "cell_type": "code",
   "execution_count": null,
   "metadata": {},
   "outputs": [],
   "source": []
  }
 ],
 "metadata": {
  "kernelspec": {
   "display_name": "Python 3",
   "language": "python",
   "name": "python3"
  },
  "language_info": {
   "codemirror_mode": {
    "name": "ipython",
    "version": 3
   },
   "file_extension": ".py",
   "mimetype": "text/x-python",
   "name": "python",
   "nbconvert_exporter": "python",
   "pygments_lexer": "ipython3",
   "version": "3.8.5"
  }
 },
 "nbformat": 4,
 "nbformat_minor": 4
}
