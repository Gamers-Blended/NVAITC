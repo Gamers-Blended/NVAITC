{
 "cells": [
  {
   "cell_type": "markdown",
   "metadata": {},
   "source": [
    "# What is CuPy?\n",
    "CuPy is a library that implements Numpy arrays on Nvidia GPUs by using the CUDA GPU library. \n",
    "<br>\n",
    "The many CUDA cores GPUs have allows significant parallel speedup.\n",
    "<br>\n",
    "It shares a similar interface/API as Numpy.\n",
    "<br>\n",
    "It supports most of the array operations that Numpy has such as:\n",
    "- Indexing\n",
    "- Broadcasting\n",
    "- Math on arrays\n",
    "- Various matrix transformations\n",
    "\n",
    "Able to write custom Python code that uses CUDA and GPU speedups.\n",
    "-\tNeed small snippet of code in C++ format\n",
    "-\tCuPy will automatically do the GPU conversion (similar to Cython)"
   ]
  },
  {
   "cell_type": "code",
   "execution_count": null,
   "metadata": {},
   "outputs": [],
   "source": [
    "# pip install cupy"
   ]
  },
  {
   "cell_type": "markdown",
   "metadata": {},
   "source": [
    "# Demo\n",
    "Note: each operation is run thrice."
   ]
  },
  {
   "cell_type": "code",
   "execution_count": 1,
   "metadata": {},
   "outputs": [],
   "source": [
    "import numpy as np\n",
    "import cupy as cp\n",
    "import time"
   ]
  },
  {
   "cell_type": "markdown",
   "metadata": {},
   "source": [
    "To switch between Numpy and CuPy, replace Numpy's `np` with CuPy’s `cp`.\n",
    "\n",
    "## Array Creation\n",
    "This creates a 3D array with 1 Billion 1’s for both Numpy and CuPy."
   ]
  },
  {
   "cell_type": "code",
   "execution_count": 4,
   "metadata": {},
   "outputs": [
    {
     "name": "stdout",
     "output_type": "stream",
     "text": [
      "0.21465325355529785\n",
      "0.014160394668579102\n",
      "15.158705571363628\n"
     ]
    }
   ],
   "source": [
    "# Numpy and CPU\n",
    "s = time.time()\n",
    "x_cpu = np.ones((1000,1000,100))\n",
    "e = time.time()\n",
    "cpu_time = e - s\n",
    "print(cpu_time)\n",
    "\n",
    "# CuPy and GPU\n",
    "s = time.time()\n",
    "x_gpu = cp.ones((1000,1000,100))\n",
    "cp.cuda.Stream.null.synchronize() # new!\n",
    "e = time.time()\n",
    "gpu_time = e - s\n",
    "print(gpu_time)\n",
    "\n",
    "print(cpu_time/gpu_time)"
   ]
  },
  {
   "cell_type": "markdown",
   "metadata": {},
   "source": [
    "Cupy part has additionl line after initialization of cupy array. It ensures that code finishes executing on GPU before going to the next line.\n",
    "\n",
    "- Numpy took 0.21 seconds\n",
    "- CuPy took 0.014 seconds\n",
    "\n",
    "## Mathematical Operations \n",
    "Multiply entire array by 5 and check the speed of Numpy vs CuPy."
   ]
  },
  {
   "cell_type": "code",
   "execution_count": 7,
   "metadata": {},
   "outputs": [
    {
     "name": "stdout",
     "output_type": "stream",
     "text": [
      "0.13804173469543457\n",
      "0.017012357711791992\n",
      "8.11420362973863\n"
     ]
    }
   ],
   "source": [
    "# Numpy and CPU\n",
    "s = time.time()\n",
    "x_cpu *= 5\n",
    "e = time.time()\n",
    "cpu_time = e - s\n",
    "print(cpu_time)\n",
    "\n",
    "# CuPy and GPU\n",
    "s = time.time()\n",
    "x_gpu *= 5\n",
    "cp.cuda.Stream.null.synchronize()\n",
    "e = time.time()\n",
    "gpu_time = e - s\n",
    "print(gpu_time)\n",
    "\n",
    "print(cpu_time/gpu_time)"
   ]
  },
  {
   "cell_type": "markdown",
   "metadata": {},
   "source": [
    "- Numpy took 0.14\n",
    "- CuPy took 0.017\n",
    "\n",
    "## Working with Multiple Arrays\n",
    "1. Multiple array by 5\n",
    "2. Multiple array by itself\n",
    "3. Add array to itself"
   ]
  },
  {
   "cell_type": "code",
   "execution_count": 10,
   "metadata": {},
   "outputs": [
    {
     "name": "stdout",
     "output_type": "stream",
     "text": [
      "0.38594937324523926\n",
      "0.05420041084289551\n",
      "7.120783168303766\n"
     ]
    }
   ],
   "source": [
    "# Numpy and CPU\n",
    "s = time.time()\n",
    "x_cpu *= 5\n",
    "x_cpu *= x_cpu\n",
    "x_cpu += x_cpu\n",
    "e = time.time()\n",
    "cpu_time = e - s\n",
    "print(cpu_time)\n",
    "\n",
    "# CuPy and GPU\n",
    "s = time.time()\n",
    "x_gpu *= 5\n",
    "x_gpu *= x_gpu\n",
    "x_gpu += x_gpu\n",
    "cp.cuda.Stream.null.synchronize()\n",
    "e = time.time()\n",
    "gpu_time = e - s\n",
    "print(gpu_time)\n",
    "\n",
    "print(cpu_time/gpu_time)"
   ]
  },
  {
   "cell_type": "markdown",
   "metadata": {},
   "source": [
    "- Numpy took 0.39 seconds on CPU\n",
    "- CuPy took 0.054 seconds on GPU\n",
    "\n",
    "# Is CuPy Always Faster?\n",
    "Speedups are dependant on size of the array.\n",
    "<br>\n",
    "\n",
    "## n = 100,00,00"
   ]
  },
  {
   "cell_type": "code",
   "execution_count": 13,
   "metadata": {},
   "outputs": [
    {
     "name": "stdout",
     "output_type": "stream",
     "text": [
      "0.003010988235473633\n",
      "0.0007617473602294922\n",
      "3.952738654147105\n"
     ]
    }
   ],
   "source": [
    "# Numpy and CPU\n",
    "s = time.time()\n",
    "x_cpu = np.ones((100,100,100))\n",
    "e = time.time()\n",
    "cpu_time = e - s\n",
    "print(cpu_time)\n",
    "\n",
    "# CuPy and GPU\n",
    "s = time.time()\n",
    "x_gpu = cp.ones((100,100,100))\n",
    "cp.cuda.Stream.null.synchronize() # new!\n",
    "e = time.time()\n",
    "gpu_time = e - s\n",
    "print(gpu_time)\n",
    "\n",
    "print(cpu_time/gpu_time)"
   ]
  },
  {
   "cell_type": "code",
   "execution_count": 16,
   "metadata": {},
   "outputs": [
    {
     "name": "stdout",
     "output_type": "stream",
     "text": [
      "0.002004861831665039\n",
      "0.0009992122650146484\n",
      "2.006442376521117\n"
     ]
    }
   ],
   "source": [
    "# Numpy and CPU\n",
    "s = time.time()\n",
    "x_cpu *= 5\n",
    "e = time.time()\n",
    "cpu_time = e - s\n",
    "print(cpu_time)\n",
    "\n",
    "# CuPy and GPU\n",
    "s = time.time()\n",
    "x_gpu *= 5\n",
    "cp.cuda.Stream.null.synchronize()\n",
    "e = time.time()\n",
    "gpu_time = e - s\n",
    "print(gpu_time)\n",
    "\n",
    "print(cpu_time/gpu_time)"
   ]
  },
  {
   "cell_type": "markdown",
   "metadata": {},
   "source": [
    "## n = 1000,00,00"
   ]
  },
  {
   "cell_type": "code",
   "execution_count": 19,
   "metadata": {},
   "outputs": [
    {
     "name": "stdout",
     "output_type": "stream",
     "text": [
      "0.02737903594970703\n",
      "0.001996755599975586\n",
      "13.711761194029851\n"
     ]
    }
   ],
   "source": [
    "# Numpy and CPU\n",
    "s = time.time()\n",
    "x_cpu = np.ones((1000,100,100))\n",
    "e = time.time()\n",
    "cpu_time = e - s\n",
    "print(cpu_time)\n",
    "\n",
    "# CuPy and GPU\n",
    "s = time.time()\n",
    "x_gpu = cp.ones((1000,100,100))\n",
    "cp.cuda.Stream.null.synchronize() # new!\n",
    "e = time.time()\n",
    "gpu_time = e - s\n",
    "print(gpu_time)\n",
    "\n",
    "print(cpu_time/gpu_time)"
   ]
  },
  {
   "cell_type": "code",
   "execution_count": 22,
   "metadata": {},
   "outputs": [
    {
     "name": "stdout",
     "output_type": "stream",
     "text": [
      "0.02737903594970703\n",
      "0.002001523971557617\n",
      "13.679094699225729\n"
     ]
    }
   ],
   "source": [
    "# Numpy and CPU\n",
    "s = time.time()\n",
    "x_cpu *= 5\n",
    "e = time.time()\n",
    "print(cpu_time)\n",
    "\n",
    "# CuPy and GPU\n",
    "s = time.time()\n",
    "x_gpu *= 5\n",
    "cp.cuda.Stream.null.synchronize()\n",
    "e = time.time()\n",
    "gpu_time = e - s\n",
    "print(gpu_time)\n",
    "\n",
    "print(cpu_time/gpu_time)"
   ]
  },
  {
   "cell_type": "markdown",
   "metadata": {},
   "source": [
    "# n = 1000,000,00"
   ]
  },
  {
   "cell_type": "code",
   "execution_count": 25,
   "metadata": {},
   "outputs": [
    {
     "name": "stdout",
     "output_type": "stream",
     "text": [
      "0.2261803150177002\n",
      "0.013798236846923828\n",
      "16.391972215502644\n",
      "0.2261803150177002\n",
      "0.017035484313964844\n",
      "13.277011140345966\n"
     ]
    }
   ],
   "source": [
    "# Numpy and CPU\n",
    "s = time.time()\n",
    "x_cpu = np.ones((1000,1000,100))\n",
    "e = time.time()\n",
    "cpu_time = e - s\n",
    "print(cpu_time)\n",
    "\n",
    "# CuPy and GPU\n",
    "s = time.time()\n",
    "x_gpu = cp.ones((1000,1000,100))\n",
    "cp.cuda.Stream.null.synchronize() # new!\n",
    "e = time.time()\n",
    "gpu_time = e - s\n",
    "print(gpu_time)\n",
    "\n",
    "print(cpu_time/gpu_time)\n",
    "\n",
    "# Numpy and CPU\n",
    "s = time.time()\n",
    "x_cpu *= 5\n",
    "e = time.time()\n",
    "print(cpu_time)\n",
    "\n",
    "# CuPy and GPU\n",
    "s = time.time()\n",
    "x_gpu *= 5\n",
    "cp.cuda.Stream.null.synchronize()\n",
    "e = time.time()\n",
    "gpu_time = e - s\n",
    "print(gpu_time)\n",
    "\n",
    "print(cpu_time/gpu_time)"
   ]
  },
  {
   "cell_type": "markdown",
   "metadata": {},
   "source": [
    "The table shows difference in speed with varying size of the array:\n",
    "\n",
    "| Operation | Array Size | Speedup |\n",
    "| --- | ----------- | --- |\n",
    "| Create | 100,00,00 | 3.95 |\n",
    "| Multiple by 5 | 100,00,00 | 2.01 |\n",
    "| Create | 1000,00,00 | 13.7 |\n",
    "| Multiple by 5 | 1000,00,00 | 13.7 |\n",
    "| Create | 1000,000,00 | 16.4 |\n",
    "| Multiple by 5 | 1000,000,00 | 13.3 |\n",
    "\n",
    "The speedup drastically kicks up once processing about 10 million data points and gets much faster crossing the 100 million points mark. Below that, Numpy is faster.\n",
    "\n",
    "Surprisingly, when n = 1000,000,00, cupy will always be slower than numpy on the first run. Cupy becomes faster from the second run onwards."
   ]
  },
  {
   "cell_type": "markdown",
   "metadata": {},
   "source": [
    "# Reference\n",
    "https://towardsdatascience.com/heres-how-to-use-cupy-to-make-numpy-700x-faster-4b920dda1f56"
   ]
  },
  {
   "cell_type": "code",
   "execution_count": null,
   "metadata": {},
   "outputs": [],
   "source": []
  }
 ],
 "metadata": {
  "kernelspec": {
   "display_name": "Python 3",
   "language": "python",
   "name": "python3"
  },
  "language_info": {
   "codemirror_mode": {
    "name": "ipython",
    "version": 3
   },
   "file_extension": ".py",
   "mimetype": "text/x-python",
   "name": "python",
   "nbconvert_exporter": "python",
   "pygments_lexer": "ipython3",
   "version": "3.8.5"
  }
 },
 "nbformat": 4,
 "nbformat_minor": 4
}
